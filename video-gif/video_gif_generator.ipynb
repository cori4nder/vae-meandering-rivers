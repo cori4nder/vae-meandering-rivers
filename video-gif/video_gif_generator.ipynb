{
 "cells": [
  {
   "cell_type": "code",
   "execution_count": null,
   "metadata": {},
   "outputs": [],
   "source": [
    "import torch\n",
    "import torch.optim as optim\n",
    "\n",
    "from eval.vae_evaluator import VAEEvaluator\n",
    "from eval.vae_visualizer import VAEVisualizer\n",
    "from utils.hdf5_utils import HDF5DataHandler\n",
    "\n",
    "from models.beta_vae_fully_connected import VAE_FConnected\n",
    "from models.vae_fully_conv import VAE_FConv"
   ]
  },
  {
   "cell_type": "code",
   "execution_count": null,
   "metadata": {},
   "outputs": [],
   "source": [
    "device = torch.device(\"cuda\" if torch.cuda.is_available() else \"cpu\")\n",
    "device"
   ]
  },
  {
   "cell_type": "code",
   "execution_count": null,
   "metadata": {},
   "outputs": [],
   "source": [
    "handler = HDF5DataHandler('./data/train_images.h5', test_size=0.2)\n",
    "handler.load_data(split=True, norm=True)\n",
    "\n",
    "# handler.resize(new_size=(128, 128))\n",
    "# transforma em tensores e gera os loaders\n",
    "handler.prepare_tensors()\n",
    "\n",
    "# Obtenção dos DataLoaders\n",
    "_, test_loader = handler.get_loaders()"
   ]
  },
  {
   "cell_type": "code",
   "execution_count": null,
   "metadata": {},
   "outputs": [],
   "source": [
    "img_size = 128\n",
    "model = VAE_FConnected().to(device)\n",
    "optimizer = optim.Adam(model.parameters(), lr=1e-4)\n",
    "\n",
    "evaluator = VAEEvaluator(model=model, device=device, image_size=image_size)"
   ]
  },
  {
   "cell_type": "code",
   "execution_count": null,
   "metadata": {},
   "outputs": [],
   "source": [
    "checkpoint_path = \"/caminho/para/o/checkpoint.pth\"  # Altere para o caminho correto do seu checkpoint\n",
    "evaluator.load_model(checkpoint_path, optimizer)"
   ]
  },
  {
   "cell_type": "code",
   "execution_count": null,
   "metadata": {},
   "outputs": [],
   "source": [
    "## Generate GIF or Video\n",
    "# Inicializa o visualizador\n",
    "\n",
    "visualizer = VAEVisualizer(vae=model, device=device, output_dir='./output')\n",
    "\n",
    "# Gerar um GIF com as variações no espaço latente\n",
    "visualizer.generate_gif_or_video(test_loader, num_samples=3, num_variations=10, latent_range=(-5, 5), output_type='gif', gif_speed=100)\n",
    "\n",
    "# Gerar um vídeo com as variações no espaço latente\n",
    "visualizer.generate_gif_or_video(test_loader, num_samples=3, num_variations=50, latent_range=(-5, 5), output_type='video', gif_speed=100)"
   ]
  }
 ],
 "metadata": {
  "language_info": {
   "name": "python"
  }
 },
 "nbformat": 4,
 "nbformat_minor": 2
}
